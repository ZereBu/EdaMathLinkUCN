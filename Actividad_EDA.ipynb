{
  "nbformat": 4,
  "nbformat_minor": 0,
  "metadata": {
    "colab": {
      "provenance": []
    },
    "kernelspec": {
      "name": "python3",
      "display_name": "Python 3"
    },
    "language_info": {
      "name": "python"
    }
  },
  "cells": [
    {
      "cell_type": "code",
      "source": [
        "!pip install pygwalker -q"
      ],
      "metadata": {
        "id": "ptblAInETF16"
      },
      "execution_count": null,
      "outputs": []
    },
    {
      "cell_type": "markdown",
      "source": [
        "Set UP"
      ],
      "metadata": {
        "id": "5CU8zggojGDu"
      }
    },
    {
      "cell_type": "code",
      "source": [
        "import pygwalker as pyg\n",
        "import pandas as pd\n",
        "\n",
        "from google.colab import output\n",
        "output.enable_custom_widget_manager()\n",
        "\n",
        "def read_df(file_path: str) -> pd.DataFrame:\n",
        "    \"\"\"Reads a dataframe from a CSV or Excel file.\"\"\"\n",
        "    if file_path.endswith(\".csv\"):\n",
        "        return pd.read_csv(file_path)\n",
        "    elif file_path.endswith((\".xls\", \".xlsx\")):\n",
        "        return pd.read_excel(file_path)\n",
        "    else:\n",
        "        raise ValueError(\"File must be a CSV or Excel (.xls, .xlsx)\")\n",
        "\n",
        "import base64\n",
        "\n",
        "def img_to_html(path, width=100, height=100):\n",
        "    with open(path, \"rb\") as f:\n",
        "        data = base64.b64encode(f.read()).decode(\"utf-8\")\n",
        "    return f'<img src=\"data:image/png;base64,{data}\" width=\"{width}\" height=\"{height}\">'\n",
        "import pandas as pd\n",
        "import ipywidgets as widgets\n",
        "from IPython.display import display, HTML\n",
        "import pygwalker as pyg\n",
        "import uuid\n",
        "\n",
        "# --- Helpers ---\n",
        "def read_df(path):\n",
        "    if path.endswith(\".csv\"):\n",
        "        return pd.read_csv(path)\n",
        "    elif path.endswith(\".xlsx\"):\n",
        "        return pd.read_excel(path)\n",
        "    else:\n",
        "        raise ValueError(\"Unsupported file type\")\n",
        "\n",
        "\n",
        "# Example datasets\n",
        "datasets = {\n",
        "    \"Amogus\": \"/content/amogus (2).xlsx\",\n",
        "    \"Astrologia-kpop\": \"/content/kpop.xlsx\",\n",
        "    \"Pkmn\": \"/content/Pokemon.csv\"\n",
        "}\n",
        "\n",
        "images = {\n",
        "    \"Amogus\": \"/content/among-us-6044054_640.png\",\n",
        "    \"Astrologia-kpop\": \"/content/421eaafa237dbc4593aafb22e4bd9dbb.jpg\",\n",
        "    \"Pkmn\": \"/content/207e6ba969fd8adce2f1dcdd9a8edba2.jpg\"\n",
        "}\n",
        "\n",
        "out = widgets.Output()\n",
        "boxes = []\n",
        "\n",
        "for name, url in datasets.items():\n",
        "    # HTML image + label\n",
        "    html = widgets.HTML(f\"\"\"\n",
        "    <div style='text-align:center; cursor:pointer;'>\n",
        "        {img_to_html(images[name]) if images[name].startswith('/content') else f'<img src=\"{images[name]}\" width=\"100\" height=\"100\">'}\n",
        "        <br><b>{name}</b>\n",
        "    </div>\n",
        "    \"\"\")\n",
        "\n",
        "    # Transparent button over the HTML\n",
        "    btn = widgets.Button(description='', layout=widgets.Layout(width='120px', height='120px'), style={'button_color':'transparent'})\n",
        "\n",
        "    def on_click_factory(u, n):\n",
        "        def handle(b):\n",
        "            with out:\n",
        "                out.clear_output(wait=True)\n",
        "                df = read_df(u)\n",
        "                print(f\"✅ Loaded {n} ({df.shape[0]} rows × {df.shape[1]} columns)\")\n",
        "                # Render with unique gid each time\n",
        "                html = pyg.to_html(df, gid=f\"gw-{uuid.uuid4().hex}\")\n",
        "                display(HTML(html))\n",
        "        return handle\n",
        "\n",
        "    btn.on_click(on_click_factory(url, name))\n",
        "\n",
        "    # Stack vertically\n",
        "    box = widgets.VBox([html, btn])\n",
        "    boxes.append(box)\n",
        "\n",
        "# Display interface\n",
        "hbox = widgets.HBox(boxes)\n",
        "display(hbox, out)\n"
      ],
      "metadata": {
        "id": "KOYtQwkIHMd4",
        "colab": {
          "base_uri": "https://localhost:8080/",
          "height": 471
        },
        "outputId": "556fd89e-a599-4abb-f2e2-8aea2a4bc8c9"
      },
      "execution_count": 1,
      "outputs": [
        {
          "output_type": "stream",
          "name": "stdout",
          "text": [
            "\u001b[?25l   \u001b[90m━━━━━━━━━━━━━━━━━━━━━━━━━━━━━━━━━━━━━━━━\u001b[0m \u001b[32m0.0/4.5 MB\u001b[0m \u001b[31m?\u001b[0m eta \u001b[36m-:--:--\u001b[0m\r\u001b[2K   \u001b[91m━━━━━━━━━━━━━━━━━━━━━━━━━━━━━━━━━━━━━━━\u001b[0m\u001b[91m╸\u001b[0m \u001b[32m4.5/4.5 MB\u001b[0m \u001b[31m159.1 MB/s\u001b[0m eta \u001b[36m0:00:01\u001b[0m\r\u001b[2K   \u001b[90m━━━━━━━━━━━━━━━━━━━━━━━━━━━━━━━━━━━━━━━━\u001b[0m \u001b[32m4.5/4.5 MB\u001b[0m \u001b[31m82.6 MB/s\u001b[0m eta \u001b[36m0:00:00\u001b[0m\n",
            "\u001b[?25h\u001b[?25l   \u001b[90m━━━━━━━━━━━━━━━━━━━━━━━━━━━━━━━━━━━━━━━━\u001b[0m \u001b[32m0.0/956.2 kB\u001b[0m \u001b[31m?\u001b[0m eta \u001b[36m-:--:--\u001b[0m\r\u001b[2K   \u001b[90m━━━━━━━━━━━━━━━━━━━━━━━━━━━━━━━━━━━━━━━━\u001b[0m \u001b[32m956.2/956.2 kB\u001b[0m \u001b[31m49.8 MB/s\u001b[0m eta \u001b[36m0:00:00\u001b[0m\n",
            "\u001b[?25h\u001b[?25l   \u001b[90m━━━━━━━━━━━━━━━━━━━━━━━━━━━━━━━━━━━━━━━━\u001b[0m \u001b[32m0.0/100.2 kB\u001b[0m \u001b[31m?\u001b[0m eta \u001b[36m-:--:--\u001b[0m\r\u001b[2K   \u001b[90m━━━━━━━━━━━━━━━━━━━━━━━━━━━━━━━━━━━━━━━━\u001b[0m \u001b[32m100.2/100.2 kB\u001b[0m \u001b[31m7.1 MB/s\u001b[0m eta \u001b[36m0:00:00\u001b[0m\n",
            "\u001b[?25h\u001b[?25l   \u001b[90m━━━━━━━━━━━━━━━━━━━━━━━━━━━━━━━━━━━━━━━━\u001b[0m \u001b[32m0.0/66.4 kB\u001b[0m \u001b[31m?\u001b[0m eta \u001b[36m-:--:--\u001b[0m\r\u001b[2K   \u001b[90m━━━━━━━━━━━━━━━━━━━━━━━━━━━━━━━━━━━━━━━━\u001b[0m \u001b[32m66.4/66.4 kB\u001b[0m \u001b[31m5.2 MB/s\u001b[0m eta \u001b[36m0:00:00\u001b[0m\n",
            "\u001b[2K   \u001b[90m━━━━━━━━━━━━━━━━━━━━━━━━━━━━━━━━━━━━━━━━\u001b[0m \u001b[32m2.2/2.2 MB\u001b[0m \u001b[31m74.5 MB/s\u001b[0m eta \u001b[36m0:00:00\u001b[0m\n",
            "\u001b[2K   \u001b[90m━━━━━━━━━━━━━━━━━━━━━━━━━━━━━━━━━━━━━━━━\u001b[0m \u001b[32m1.6/1.6 MB\u001b[0m \u001b[31m62.8 MB/s\u001b[0m eta \u001b[36m0:00:00\u001b[0m\n",
            "\u001b[2K   \u001b[90m━━━━━━━━━━━━━━━━━━━━━━━━━━━━━━━━━━━━━━━━\u001b[0m \u001b[32m9.7/9.7 MB\u001b[0m \u001b[31m108.1 MB/s\u001b[0m eta \u001b[36m0:00:00\u001b[0m\n",
            "\u001b[?25h"
          ]
        },
        {
          "output_type": "error",
          "ename": "FileNotFoundError",
          "evalue": "[Errno 2] No such file or directory: '/content/among-us-6044054_640.png'",
          "traceback": [
            "\u001b[0;31m---------------------------------------------------------------------------\u001b[0m",
            "\u001b[0;31mFileNotFoundError\u001b[0m                         Traceback (most recent call last)",
            "\u001b[0;32m/tmp/ipython-input-2219514688.py\u001b[0m in \u001b[0;36m<cell line: 0>\u001b[0;34m()\u001b[0m\n\u001b[1;32m     57\u001b[0m     html = widgets.HTML(f\"\"\"\n\u001b[1;32m     58\u001b[0m     \u001b[0;34m<\u001b[0m\u001b[0mdiv\u001b[0m \u001b[0mstyle\u001b[0m\u001b[0;34m=\u001b[0m\u001b[0;34m'text-align:center; cursor:pointer;'\u001b[0m\u001b[0;34m>\u001b[0m\u001b[0;34m\u001b[0m\u001b[0;34m\u001b[0m\u001b[0m\n\u001b[0;32m---> 59\u001b[0;31m         \u001b[0;34m{\u001b[0m\u001b[0mimg_to_html\u001b[0m\u001b[0;34m(\u001b[0m\u001b[0mimages\u001b[0m\u001b[0;34m[\u001b[0m\u001b[0mname\u001b[0m\u001b[0;34m]\u001b[0m\u001b[0;34m)\u001b[0m \u001b[0;32mif\u001b[0m \u001b[0mimages\u001b[0m\u001b[0;34m[\u001b[0m\u001b[0mname\u001b[0m\u001b[0;34m]\u001b[0m\u001b[0;34m.\u001b[0m\u001b[0mstartswith\u001b[0m\u001b[0;34m(\u001b[0m\u001b[0;34m'/content'\u001b[0m\u001b[0;34m)\u001b[0m \u001b[0;32melse\u001b[0m \u001b[0;34mf'<img src=\"{images[name]}\" width=\"100\" height=\"100\">'\u001b[0m\u001b[0;34m}\u001b[0m\u001b[0;34m\u001b[0m\u001b[0;34m\u001b[0m\u001b[0m\n\u001b[0m\u001b[1;32m     60\u001b[0m         \u001b[0;34m<\u001b[0m\u001b[0mbr\u001b[0m\u001b[0;34m>\u001b[0m\u001b[0;34m<\u001b[0m\u001b[0mb\u001b[0m\u001b[0;34m>\u001b[0m\u001b[0;34m{\u001b[0m\u001b[0mname\u001b[0m\u001b[0;34m}\u001b[0m\u001b[0;34m<\u001b[0m\u001b[0;34m/\u001b[0m\u001b[0mb\u001b[0m\u001b[0;34m>\u001b[0m\u001b[0;34m\u001b[0m\u001b[0;34m\u001b[0m\u001b[0m\n\u001b[1;32m     61\u001b[0m     \u001b[0;34m<\u001b[0m\u001b[0;34m/\u001b[0m\u001b[0mdiv\u001b[0m\u001b[0;34m>\u001b[0m\u001b[0;34m\u001b[0m\u001b[0;34m\u001b[0m\u001b[0m\n",
            "\u001b[0;32m/tmp/ipython-input-2219514688.py\u001b[0m in \u001b[0;36mimg_to_html\u001b[0;34m(path, width, height)\u001b[0m\n\u001b[1;32m     18\u001b[0m \u001b[0;34m\u001b[0m\u001b[0m\n\u001b[1;32m     19\u001b[0m \u001b[0;32mdef\u001b[0m \u001b[0mimg_to_html\u001b[0m\u001b[0;34m(\u001b[0m\u001b[0mpath\u001b[0m\u001b[0;34m,\u001b[0m \u001b[0mwidth\u001b[0m\u001b[0;34m=\u001b[0m\u001b[0;36m100\u001b[0m\u001b[0;34m,\u001b[0m \u001b[0mheight\u001b[0m\u001b[0;34m=\u001b[0m\u001b[0;36m100\u001b[0m\u001b[0;34m)\u001b[0m\u001b[0;34m:\u001b[0m\u001b[0;34m\u001b[0m\u001b[0;34m\u001b[0m\u001b[0m\n\u001b[0;32m---> 20\u001b[0;31m     \u001b[0;32mwith\u001b[0m \u001b[0mopen\u001b[0m\u001b[0;34m(\u001b[0m\u001b[0mpath\u001b[0m\u001b[0;34m,\u001b[0m \u001b[0;34m\"rb\"\u001b[0m\u001b[0;34m)\u001b[0m \u001b[0;32mas\u001b[0m \u001b[0mf\u001b[0m\u001b[0;34m:\u001b[0m\u001b[0;34m\u001b[0m\u001b[0;34m\u001b[0m\u001b[0m\n\u001b[0m\u001b[1;32m     21\u001b[0m         \u001b[0mdata\u001b[0m \u001b[0;34m=\u001b[0m \u001b[0mbase64\u001b[0m\u001b[0;34m.\u001b[0m\u001b[0mb64encode\u001b[0m\u001b[0;34m(\u001b[0m\u001b[0mf\u001b[0m\u001b[0;34m.\u001b[0m\u001b[0mread\u001b[0m\u001b[0;34m(\u001b[0m\u001b[0;34m)\u001b[0m\u001b[0;34m)\u001b[0m\u001b[0;34m.\u001b[0m\u001b[0mdecode\u001b[0m\u001b[0;34m(\u001b[0m\u001b[0;34m\"utf-8\"\u001b[0m\u001b[0;34m)\u001b[0m\u001b[0;34m\u001b[0m\u001b[0;34m\u001b[0m\u001b[0m\n\u001b[1;32m     22\u001b[0m     \u001b[0;32mreturn\u001b[0m \u001b[0;34mf'<img src=\"data:image/png;base64,{data}\" width=\"{width}\" height=\"{height}\">'\u001b[0m\u001b[0;34m\u001b[0m\u001b[0;34m\u001b[0m\u001b[0m\n",
            "\u001b[0;31mFileNotFoundError\u001b[0m: [Errno 2] No such file or directory: '/content/among-us-6044054_640.png'"
          ]
        }
      ]
    }
  ]
}